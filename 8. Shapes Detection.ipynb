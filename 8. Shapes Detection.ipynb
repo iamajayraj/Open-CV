{
 "cells": [
  {
   "cell_type": "code",
   "execution_count": 30,
   "id": "b8a24f4e",
   "metadata": {},
   "outputs": [],
   "source": [
    "import numpy as np\n",
    "import cv2"
   ]
  },
  {
   "cell_type": "code",
   "execution_count": 31,
   "id": "90353229",
   "metadata": {},
   "outputs": [],
   "source": [
    "def getContours(img):\n",
    "    contours,hierarchy = cv2.findContours(img,cv2.RETR_EXTERNAL,cv2.CHAIN_APPROX_NONE)\n",
    "    for cnt in contours:\n",
    "        area = cv2.contourArea(cnt)\n",
    "        print(area)\n",
    "        if area>500:\n",
    "            cv2.drawContours(imgContour,cnt,-1,(0,255,0),3)\n",
    "            peri = cv2.arcLength(cnt,True)\n",
    "            #print(peri)\n",
    "            approx = cv2.approxPolyDP(cnt,0.02*peri,True)\n",
    "            print(len(approx))\n",
    "            objCor = len(approx)\n",
    "            x,y,w,h = cv2.boundingRect(approx)\n",
    "            \n",
    "            if objCor==3:\n",
    "                objType = 'Tri'\n",
    "            elif objCor == 4:\n",
    "                aspRatio = w/float(h)\n",
    "                if aspRatio>0.95 and aspRatio<1.05:\n",
    "                    objType = 'Square'\n",
    "                else:\n",
    "                    objType = 'Rect'\n",
    "            elif objCor>10 and objCor<50:\n",
    "                objType='Circle'\n",
    "            \n",
    "            else:\n",
    "                objType = 'None'\n",
    "                \n",
    "            cv2.putText(imgContour,objType,(x+(w//2),y+(h//2)),cv2.FONT_HERSHEY_COMPLEX,0.5,(0,255,0),2)\n",
    "            \n",
    "            cv2.rectangle(imgContour,(x,y),(x+w,y+h),(0,0,255),2)"
   ]
  },
  {
   "cell_type": "code",
   "execution_count": 32,
   "id": "7f8d149f",
   "metadata": {},
   "outputs": [
    {
     "name": "stdout",
     "output_type": "stream",
     "text": [
      "5792.0\n",
      "8\n",
      "7424.5\n",
      "4\n",
      "4317.5\n",
      "6\n",
      "3565.0\n",
      "12\n",
      "3123.0\n",
      "6\n",
      "62.5\n",
      "3748.5\n",
      "7\n",
      "4612.0\n",
      "4\n",
      "4307.0\n",
      "5\n",
      "4629.0\n",
      "8\n",
      "3687.5\n",
      "10\n",
      "4513.0\n",
      "4\n",
      "2848.5\n",
      "3\n",
      "5505.0\n",
      "4\n",
      "4947.5\n",
      "4\n",
      "3870.0\n",
      "9\n"
     ]
    }
   ],
   "source": [
    "img = cv2.imread(r\"C:\\Users\\iamaj\\OneDrive\\Desktop\\shapes.jpg\")\n",
    "img = cv2.resize(img,(650,450))\n",
    "imgContour = img.copy()\n",
    "\n",
    "imgGray = cv2.cvtColor(img,cv2.COLOR_BGR2GRAY)\n",
    "imgBlur = cv2.GaussianBlur(imgGray,(7,7),1)\n",
    "imgCanny = cv2.Canny(imgBlur,50,50)\n",
    "\n",
    "getContours(imgCanny)"
   ]
  },
  {
   "cell_type": "code",
   "execution_count": 33,
   "id": "a6007cad",
   "metadata": {},
   "outputs": [
    {
     "data": {
      "text/plain": [
       "-1"
      ]
     },
     "execution_count": 33,
     "metadata": {},
     "output_type": "execute_result"
    }
   ],
   "source": [
    "cv2.imshow('Orignal',img)\n",
    "cv2.imshow('Gray',imgGray)\n",
    "cv2.imshow('Blur',imgBlur)\n",
    "cv2.imshow('Canny',imgCanny)\n",
    "cv2.imshow('Image Contours',imgContour)\n",
    "\n",
    "cv2.waitKey(0)"
   ]
  },
  {
   "cell_type": "code",
   "execution_count": null,
   "id": "40fab27b",
   "metadata": {},
   "outputs": [],
   "source": []
  }
 ],
 "metadata": {
  "kernelspec": {
   "display_name": "Python 3 (ipykernel)",
   "language": "python",
   "name": "python3"
  },
  "language_info": {
   "codemirror_mode": {
    "name": "ipython",
    "version": 3
   },
   "file_extension": ".py",
   "mimetype": "text/x-python",
   "name": "python",
   "nbconvert_exporter": "python",
   "pygments_lexer": "ipython3",
   "version": "3.9.13"
  }
 },
 "nbformat": 4,
 "nbformat_minor": 5
}
