{
 "cells": [
  {
   "cell_type": "code",
   "execution_count": 1,
   "id": "d52c70e4",
   "metadata": {},
   "outputs": [],
   "source": [
    "import cv2\n",
    "import numpy as np"
   ]
  },
  {
   "cell_type": "code",
   "execution_count": 2,
   "id": "adc4eba7",
   "metadata": {},
   "outputs": [],
   "source": [
    "img = cv2.imread(r\"C:\\Users\\iamaj\\OneDrive\\Pictures\\Screenshots\\Screenshot 2024-01-25 152937.png\")"
   ]
  },
  {
   "cell_type": "code",
   "execution_count": 3,
   "id": "a6411851",
   "metadata": {},
   "outputs": [
    {
     "data": {
      "text/plain": [
       "(661, 472, 3)"
      ]
     },
     "execution_count": 3,
     "metadata": {},
     "output_type": "execute_result"
    }
   ],
   "source": [
    "img.shape"
   ]
  },
  {
   "cell_type": "code",
   "execution_count": 4,
   "id": "8c59b0f4",
   "metadata": {},
   "outputs": [],
   "source": [
    "width,height = 472,661"
   ]
  },
  {
   "cell_type": "code",
   "execution_count": 5,
   "id": "c66cc78c",
   "metadata": {},
   "outputs": [],
   "source": [
    "pts1 = np.float32([[188,244],[295,243],[182,414],[317,419]])"
   ]
  },
  {
   "cell_type": "code",
   "execution_count": 8,
   "id": "e718982d",
   "metadata": {},
   "outputs": [
    {
     "data": {
      "text/plain": [
       "(4, 2)"
      ]
     },
     "execution_count": 8,
     "metadata": {},
     "output_type": "execute_result"
    }
   ],
   "source": [
    "pts1.shape"
   ]
  },
  {
   "cell_type": "code",
   "execution_count": 9,
   "id": "9135ed9a",
   "metadata": {},
   "outputs": [],
   "source": [
    "pts2 = np.float32([[0,0],[width,0],[0,height],[width,height]])"
   ]
  },
  {
   "cell_type": "code",
   "execution_count": 10,
   "id": "4afbf9a0",
   "metadata": {},
   "outputs": [
    {
     "data": {
      "text/plain": [
       "array([[  0.,   0.],\n",
       "       [472.,   0.],\n",
       "       [  0., 661.],\n",
       "       [472., 661.]], dtype=float32)"
      ]
     },
     "execution_count": 10,
     "metadata": {},
     "output_type": "execute_result"
    }
   ],
   "source": [
    "pts2"
   ]
  },
  {
   "cell_type": "code",
   "execution_count": 11,
   "id": "1e7e76eb",
   "metadata": {},
   "outputs": [],
   "source": [
    "matrix = cv2.getPerspectiveTransform(pts1,pts2)"
   ]
  },
  {
   "cell_type": "code",
   "execution_count": 12,
   "id": "0cd434a5",
   "metadata": {},
   "outputs": [],
   "source": [
    "imgOutput = cv2.warpPerspective(img,matrix,(width,height))"
   ]
  },
  {
   "cell_type": "code",
   "execution_count": 13,
   "id": "f5f21abf",
   "metadata": {},
   "outputs": [
    {
     "data": {
      "text/plain": [
       "-1"
      ]
     },
     "execution_count": 13,
     "metadata": {},
     "output_type": "execute_result"
    }
   ],
   "source": [
    "cv2.imshow('Image',img)\n",
    "cv2.imshow('Output Image',imgOutput)\n",
    "\n",
    "cv2.waitKey(0)"
   ]
  },
  {
   "cell_type": "code",
   "execution_count": null,
   "id": "1990b61b",
   "metadata": {},
   "outputs": [],
   "source": []
  }
 ],
 "metadata": {
  "kernelspec": {
   "display_name": "Python 3 (ipykernel)",
   "language": "python",
   "name": "python3"
  },
  "language_info": {
   "codemirror_mode": {
    "name": "ipython",
    "version": 3
   },
   "file_extension": ".py",
   "mimetype": "text/x-python",
   "name": "python",
   "nbconvert_exporter": "python",
   "pygments_lexer": "ipython3",
   "version": "3.9.13"
  }
 },
 "nbformat": 4,
 "nbformat_minor": 5
}
