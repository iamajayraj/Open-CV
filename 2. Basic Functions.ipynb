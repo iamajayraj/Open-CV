{
 "cells": [
  {
   "cell_type": "code",
   "execution_count": 18,
   "id": "4fabf399",
   "metadata": {},
   "outputs": [],
   "source": [
    "import cv2\n",
    "import numpy as np"
   ]
  },
  {
   "cell_type": "code",
   "execution_count": 3,
   "id": "9501928b",
   "metadata": {},
   "outputs": [],
   "source": [
    "img = cv2.imread(r\"C:\\Users\\iamaj\\OneDrive\\Desktop\\ajay_img.jpg\")"
   ]
  },
  {
   "cell_type": "code",
   "execution_count": 4,
   "id": "e2c84364",
   "metadata": {},
   "outputs": [],
   "source": [
    "img_gray = cv2.cvtColor(img,cv2.COLOR_BGR2GRAY)"
   ]
  },
  {
   "cell_type": "code",
   "execution_count": 5,
   "id": "f1b1887c",
   "metadata": {},
   "outputs": [
    {
     "data": {
      "text/plain": [
       "-1"
      ]
     },
     "execution_count": 5,
     "metadata": {},
     "output_type": "execute_result"
    }
   ],
   "source": [
    "cv2.imshow('gray img',img_gray)\n",
    "cv2.waitKey(0)"
   ]
  },
  {
   "cell_type": "code",
   "execution_count": 14,
   "id": "953f6ebf",
   "metadata": {},
   "outputs": [],
   "source": [
    "#blur image\n",
    "imgblur= cv2.GaussianBlur(img,(7,7),0)"
   ]
  },
  {
   "cell_type": "code",
   "execution_count": 15,
   "id": "48fda47e",
   "metadata": {},
   "outputs": [
    {
     "data": {
      "text/plain": [
       "-1"
      ]
     },
     "execution_count": 15,
     "metadata": {},
     "output_type": "execute_result"
    }
   ],
   "source": [
    "cv2.imshow('blur img',imgblur)\n",
    "cv2.waitKey(0)"
   ]
  },
  {
   "cell_type": "code",
   "execution_count": 16,
   "id": "5c1e9e55",
   "metadata": {},
   "outputs": [],
   "source": [
    "#Edge detector\n",
    "imgCanny = cv2.Canny(img,100,100)"
   ]
  },
  {
   "cell_type": "code",
   "execution_count": 17,
   "id": "d105246a",
   "metadata": {},
   "outputs": [
    {
     "data": {
      "text/plain": [
       "-1"
      ]
     },
     "execution_count": 17,
     "metadata": {},
     "output_type": "execute_result"
    }
   ],
   "source": [
    "cv2.imshow('canny img',imgCanny)\n",
    "cv2.waitKey(0)"
   ]
  },
  {
   "cell_type": "code",
   "execution_count": 26,
   "id": "b0a35600",
   "metadata": {},
   "outputs": [],
   "source": [
    "#Dialation\n",
    "kernel = np.ones((5,5),np.uint8)\n",
    "img_dial = cv2.dilate(imgCanny,kernel,iterations=1)"
   ]
  },
  {
   "cell_type": "code",
   "execution_count": 27,
   "id": "ec892eab",
   "metadata": {},
   "outputs": [
    {
     "data": {
      "text/plain": [
       "13"
      ]
     },
     "execution_count": 27,
     "metadata": {},
     "output_type": "execute_result"
    }
   ],
   "source": [
    "cv2.imshow('dial img',img_dial)\n",
    "cv2.waitKey(0)"
   ]
  },
  {
   "cell_type": "code",
   "execution_count": 24,
   "id": "882a98cc",
   "metadata": {},
   "outputs": [],
   "source": [
    "#eroded image\n",
    "img_erode = cv2.erode(img_dial,kernel,iterations=1)"
   ]
  },
  {
   "cell_type": "code",
   "execution_count": 28,
   "id": "20aee3c2",
   "metadata": {},
   "outputs": [
    {
     "data": {
      "text/plain": [
       "13"
      ]
     },
     "execution_count": 28,
     "metadata": {},
     "output_type": "execute_result"
    }
   ],
   "source": [
    "cv2.imshow('erode img',img_erode)\n",
    "cv2.waitKey(0)"
   ]
  },
  {
   "cell_type": "code",
   "execution_count": null,
   "id": "a5a01cf1",
   "metadata": {},
   "outputs": [],
   "source": []
  }
 ],
 "metadata": {
  "kernelspec": {
   "display_name": "Python 3 (ipykernel)",
   "language": "python",
   "name": "python3"
  },
  "language_info": {
   "codemirror_mode": {
    "name": "ipython",
    "version": 3
   },
   "file_extension": ".py",
   "mimetype": "text/x-python",
   "name": "python",
   "nbconvert_exporter": "python",
   "pygments_lexer": "ipython3",
   "version": "3.9.13"
  }
 },
 "nbformat": 4,
 "nbformat_minor": 5
}
