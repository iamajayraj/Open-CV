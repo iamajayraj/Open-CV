{
 "cells": [
  {
   "cell_type": "code",
   "execution_count": 1,
   "id": "61d0f0d3",
   "metadata": {},
   "outputs": [],
   "source": [
    "import cv2"
   ]
  },
  {
   "cell_type": "code",
   "execution_count": 2,
   "id": "cd03402b",
   "metadata": {},
   "outputs": [],
   "source": [
    "img = cv2.imread(r\"C:\\Users\\iamaj\\OneDrive\\Desktop\\ajay_img.jpg\")"
   ]
  },
  {
   "cell_type": "code",
   "execution_count": 3,
   "id": "e935ebc1",
   "metadata": {},
   "outputs": [
    {
     "data": {
      "text/plain": [
       "array([[[208, 219, 233],\n",
       "        [208, 219, 233],\n",
       "        [208, 219, 233],\n",
       "        ...,\n",
       "        [215, 218, 233],\n",
       "        [215, 218, 233],\n",
       "        [215, 218, 233]],\n",
       "\n",
       "       [[208, 219, 233],\n",
       "        [208, 219, 233],\n",
       "        [208, 219, 233],\n",
       "        ...,\n",
       "        [215, 218, 233],\n",
       "        [215, 218, 233],\n",
       "        [215, 218, 233]],\n",
       "\n",
       "       [[208, 219, 233],\n",
       "        [208, 219, 233],\n",
       "        [208, 219, 233],\n",
       "        ...,\n",
       "        [215, 218, 233],\n",
       "        [215, 218, 233],\n",
       "        [215, 218, 233]],\n",
       "\n",
       "       ...,\n",
       "\n",
       "       [[  5,   5,   5],\n",
       "        [  6,   6,   6],\n",
       "        [  8,   8,   8],\n",
       "        ...,\n",
       "        [ 26,  21,  22],\n",
       "        [ 26,  20,  21],\n",
       "        [ 24,  18,  19]],\n",
       "\n",
       "       [[  5,   5,   5],\n",
       "        [  6,   6,   6],\n",
       "        [  8,   8,   8],\n",
       "        ...,\n",
       "        [ 26,  21,  22],\n",
       "        [ 26,  20,  21],\n",
       "        [ 24,  18,  19]],\n",
       "\n",
       "       [[  5,   5,   5],\n",
       "        [  6,   6,   6],\n",
       "        [  8,   8,   8],\n",
       "        ...,\n",
       "        [ 25,  20,  21],\n",
       "        [ 25,  19,  20],\n",
       "        [ 23,  17,  18]]], dtype=uint8)"
      ]
     },
     "execution_count": 3,
     "metadata": {},
     "output_type": "execute_result"
    }
   ],
   "source": [
    "img"
   ]
  },
  {
   "cell_type": "code",
   "execution_count": 4,
   "id": "2d092af7",
   "metadata": {},
   "outputs": [],
   "source": [
    "cv2.imshow('Output',img)\n",
    "\n",
    "cv2.waitKey(0)\n",
    "cv2.destroyAllWindows()"
   ]
  },
  {
   "cell_type": "code",
   "execution_count": null,
   "id": "b7d735a7",
   "metadata": {},
   "outputs": [],
   "source": []
  },
  {
   "cell_type": "markdown",
   "id": "35c7dbf9",
   "metadata": {},
   "source": [
    "# Videos"
   ]
  },
  {
   "cell_type": "code",
   "execution_count": 5,
   "id": "36b0fbdf",
   "metadata": {},
   "outputs": [],
   "source": [
    "cap = cv2.VideoCapture(\"path to video\")"
   ]
  },
  {
   "cell_type": "code",
   "execution_count": 6,
   "id": "106c08d0",
   "metadata": {},
   "outputs": [
    {
     "ename": "error",
     "evalue": "OpenCV(4.9.0) D:\\a\\opencv-python\\opencv-python\\opencv\\modules\\highgui\\src\\window.cpp:971: error: (-215:Assertion failed) size.width>0 && size.height>0 in function 'cv::imshow'\n",
     "output_type": "error",
     "traceback": [
      "\u001b[1;31m---------------------------------------------------------------------------\u001b[0m",
      "\u001b[1;31merror\u001b[0m                                     Traceback (most recent call last)",
      "\u001b[1;32m~\\AppData\\Local\\Temp\\ipykernel_11460\\1205636701.py\u001b[0m in \u001b[0;36m<module>\u001b[1;34m\u001b[0m\n\u001b[0;32m      2\u001b[0m \u001b[1;33m\u001b[0m\u001b[0m\n\u001b[0;32m      3\u001b[0m     \u001b[0msucess\u001b[0m\u001b[1;33m,\u001b[0m \u001b[0mimg\u001b[0m \u001b[1;33m=\u001b[0m \u001b[0mcap\u001b[0m\u001b[1;33m.\u001b[0m\u001b[0mread\u001b[0m\u001b[1;33m(\u001b[0m\u001b[1;33m)\u001b[0m\u001b[1;33m\u001b[0m\u001b[1;33m\u001b[0m\u001b[0m\n\u001b[1;32m----> 4\u001b[1;33m     \u001b[0mcv2\u001b[0m\u001b[1;33m.\u001b[0m\u001b[0mimshow\u001b[0m\u001b[1;33m(\u001b[0m\u001b[1;34m'Video'\u001b[0m\u001b[1;33m,\u001b[0m\u001b[0mimg\u001b[0m\u001b[1;33m)\u001b[0m\u001b[1;33m\u001b[0m\u001b[1;33m\u001b[0m\u001b[0m\n\u001b[0m\u001b[0;32m      5\u001b[0m \u001b[1;33m\u001b[0m\u001b[0m\n\u001b[0;32m      6\u001b[0m     \u001b[1;32mif\u001b[0m \u001b[0mcv2\u001b[0m\u001b[1;33m.\u001b[0m\u001b[0mwaitKey\u001b[0m\u001b[1;33m(\u001b[0m\u001b[1;36m1\u001b[0m\u001b[1;33m)\u001b[0m \u001b[1;33m&\u001b[0m \u001b[1;36m0xFF\u001b[0m \u001b[1;33m==\u001b[0m \u001b[0mord\u001b[0m\u001b[1;33m(\u001b[0m\u001b[1;34m'x'\u001b[0m\u001b[1;33m)\u001b[0m\u001b[1;33m:\u001b[0m\u001b[1;33m\u001b[0m\u001b[1;33m\u001b[0m\u001b[0m\n",
      "\u001b[1;31merror\u001b[0m: OpenCV(4.9.0) D:\\a\\opencv-python\\opencv-python\\opencv\\modules\\highgui\\src\\window.cpp:971: error: (-215:Assertion failed) size.width>0 && size.height>0 in function 'cv::imshow'\n"
     ]
    }
   ],
   "source": [
    "while True:\n",
    "    \n",
    "    sucess, img = cap.read()\n",
    "    cv2.imshow('Video',img)\n",
    "    \n",
    "    if cv2.waitKey(1) & 0xFF == ord('x'):\n",
    "        break"
   ]
  },
  {
   "cell_type": "code",
   "execution_count": null,
   "id": "d1af6bfa",
   "metadata": {},
   "outputs": [],
   "source": []
  },
  {
   "cell_type": "markdown",
   "id": "8df8902d",
   "metadata": {},
   "source": [
    "# Webcam"
   ]
  },
  {
   "cell_type": "code",
   "execution_count": 5,
   "id": "1c3a5554",
   "metadata": {},
   "outputs": [],
   "source": [
    "cap = cv2.VideoCapture(0)"
   ]
  },
  {
   "cell_type": "code",
   "execution_count": 6,
   "id": "c8e3a164",
   "metadata": {},
   "outputs": [
    {
     "data": {
      "text/plain": [
       "True"
      ]
     },
     "execution_count": 6,
     "metadata": {},
     "output_type": "execute_result"
    }
   ],
   "source": [
    "cap.set(3,640) #3 is id no to set width of webcam feed\n",
    "cap.set(4,480) #4 is for height\n",
    "cap.set(10,100) #10 is for brightness"
   ]
  },
  {
   "cell_type": "code",
   "execution_count": 7,
   "id": "da54576e",
   "metadata": {},
   "outputs": [],
   "source": [
    "while True:\n",
    "    \n",
    "    sucess, img = cap.read()\n",
    "    cv2.imshow('Video',img)\n",
    "    \n",
    "    if cv2.waitKey(1) & 0xFF == ord('x'):\n",
    "        break\n",
    "cap.release()\n",
    "cv2.destroyAllWindows()"
   ]
  },
  {
   "cell_type": "code",
   "execution_count": null,
   "id": "ccb3df00",
   "metadata": {},
   "outputs": [],
   "source": []
  }
 ],
 "metadata": {
  "kernelspec": {
   "display_name": "Python 3 (ipykernel)",
   "language": "python",
   "name": "python3"
  },
  "language_info": {
   "codemirror_mode": {
    "name": "ipython",
    "version": 3
   },
   "file_extension": ".py",
   "mimetype": "text/x-python",
   "name": "python",
   "nbconvert_exporter": "python",
   "pygments_lexer": "ipython3",
   "version": "3.9.13"
  }
 },
 "nbformat": 4,
 "nbformat_minor": 5
}
